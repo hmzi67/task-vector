{
 "cells": [
  {
   "cell_type": "code",
   "execution_count": 5,
   "metadata": {},
   "outputs": [
    {
     "name": "stdout",
     "output_type": "stream",
     "text": [
      "Training Set:\n",
      "Batch 1 - Image Batch Shape: torch.Size([4, 1, 28, 28]), Labels: tensor([1, 1, 1, 1])\n",
      "Batch 2 - Image Batch Shape: torch.Size([4, 1, 28, 28]), Labels: tensor([1, 1, 1, 1])\n",
      "\n",
      "Testing Set:\n",
      "Batch 1 - Image Batch Shape: torch.Size([4, 1, 28, 28]), Labels: tensor([1, 1, 1, 1])\n",
      "Batch 2 - Image Batch Shape: torch.Size([4, 1, 28, 28]), Labels: tensor([1, 1, 1, 1])\n"
     ]
    },
    {
     "name": "stderr",
     "output_type": "stream",
     "text": [
      "/var/folders/j0/w_sc6_7n777fy7v8ytm1r08w0000gn/T/ipykernel_3802/2198753815.py:11: UserWarning: To copy construct from a tensor, it is recommended to use sourceTensor.clone().detach() or sourceTensor.clone().detach().requires_grad_(True), rather than torch.tensor(sourceTensor).\n",
      "  images = torch.stack([torch.tensor(img) for img in images])  # Convert images to tensor\n"
     ]
    }
   ],
   "source": [
    "import pickle\n",
    "import torch\n",
    "from torch.utils.data import DataLoader, TensorDataset, random_split\n",
    "\n",
    "# Step 1: Load the saved fine-tune data from the pickle file\n",
    "with open('fine_tune_data.pkl', 'rb') as f:\n",
    "    fine_tune_data = pickle.load(f)  # This should be a list of (image, label) pairs\n",
    "\n",
    "# Step 2: Separate images and labels, then convert them to tensors\n",
    "images, labels = zip(*fine_tune_data)  # Unzip into two lists\n",
    "images = torch.stack([torch.tensor(img) for img in images])  # Convert images to tensor\n",
    "labels = torch.tensor(labels)  # Convert labels to tensor\n",
    "\n",
    "# Step 3: Create a TensorDataset from the images and labels\n",
    "fine_tune_dataset = TensorDataset(images, labels)\n",
    "\n",
    "# Step 4: Define the split ratio for training and testing\n",
    "train_ratio = 0.8  # 80% for training, 20% for testing\n",
    "train_size = int(train_ratio * len(fine_tune_dataset))\n",
    "test_size = len(fine_tune_dataset) - train_size\n",
    "\n",
    "# Split the dataset\n",
    "train_data, test_data = random_split(fine_tune_dataset, [train_size, test_size])\n",
    "\n",
    "# Step 5: Create DataLoaders for training and testing\n",
    "train_loader = DataLoader(train_data, batch_size=4, shuffle=True)\n",
    "test_loader = DataLoader(test_data, batch_size=4, shuffle=False)\n",
    "\n",
    "# Step 6: Verify the split by checking sample data from each loader\n",
    "print(\"Training Set:\")\n",
    "for i, (train_images, train_labels) in enumerate(train_loader):\n",
    "    print(f\"Batch {i + 1} - Image Batch Shape: {train_images.shape}, Labels: {train_labels}\")\n",
    "    if i == 1:  # Limit to first few batches\n",
    "        break\n",
    "\n",
    "print(\"\\nTesting Set:\")\n",
    "for i, (test_images, test_labels) in enumerate(test_loader):\n",
    "    print(f\"Batch {i + 1} - Image Batch Shape: {test_images.shape}, Labels: {test_labels}\")\n",
    "    if i == 1:  # Limit to first few batches\n",
    "        break\n"
   ]
  },
  {
   "cell_type": "code",
   "execution_count": null,
   "metadata": {},
   "outputs": [
    {
     "name": "stderr",
     "output_type": "stream",
     "text": [
      "Epoch 1/5: 100%|██████████| 135/135 [00:00<00:00, 206.47it/s]\n"
     ]
    },
    {
     "name": "stdout",
     "output_type": "stream",
     "text": [
      "Epoch [1/5], Loss: 0.0072\n"
     ]
    },
    {
     "name": "stderr",
     "output_type": "stream",
     "text": [
      "Epoch 2/5: 100%|██████████| 135/135 [00:00<00:00, 231.94it/s]\n"
     ]
    },
    {
     "name": "stdout",
     "output_type": "stream",
     "text": [
      "Epoch [2/5], Loss: 0.0000\n"
     ]
    },
    {
     "name": "stderr",
     "output_type": "stream",
     "text": [
      "Epoch 3/5: 100%|██████████| 135/135 [00:00<00:00, 227.46it/s]\n"
     ]
    },
    {
     "name": "stdout",
     "output_type": "stream",
     "text": [
      "Epoch [3/5], Loss: 0.0000\n"
     ]
    },
    {
     "name": "stderr",
     "output_type": "stream",
     "text": [
      "Epoch 4/5: 100%|██████████| 135/135 [00:00<00:00, 244.80it/s]\n"
     ]
    },
    {
     "name": "stdout",
     "output_type": "stream",
     "text": [
      "Epoch [4/5], Loss: 0.0000\n"
     ]
    },
    {
     "name": "stderr",
     "output_type": "stream",
     "text": [
      "Epoch 5/5: 100%|██████████| 135/135 [00:00<00:00, 224.39it/s]"
     ]
    },
    {
     "name": "stdout",
     "output_type": "stream",
     "text": [
      "Epoch [5/5], Loss: 0.0000\n",
      "Test Accuracy: 100.00%\n"
     ]
    },
    {
     "name": "stderr",
     "output_type": "stream",
     "text": [
      "\n"
     ]
    }
   ],
   "source": [
    "import torch\n",
    "import torch.nn as nn\n",
    "import torch.optim as optim\n",
    "from tqdm import tqdm  # For progress bar\n",
    "\n",
    "# Define a simple CNN model for binary classification\n",
    "class SimpleCNN(nn.Module):\n",
    "    def __init__(self):\n",
    "        super(SimpleCNN, self).__init__()\n",
    "        self.conv1 = nn.Conv2d(1, 32, kernel_size=3, padding=1)\n",
    "        self.conv2 = nn.Conv2d(32, 64, kernel_size=3, padding=1)\n",
    "        self.fc1 = nn.Linear(64 * 7 * 7, 128)  # Adjust for input dimensions\n",
    "        self.fc2 = nn.Linear(128, 1)  # Binary output for label 1\n",
    "\n",
    "    def forward(self, x):\n",
    "        x = torch.relu(self.conv1(x))\n",
    "        x = torch.max_pool2d(x, 2)\n",
    "        x = torch.relu(self.conv2(x))\n",
    "        x = torch.max_pool2d(x, 2)\n",
    "        x = x.view(x.size(0), -1)  # Flatten for fully connected layer\n",
    "        x = torch.relu(self.fc1(x))\n",
    "        x = torch.sigmoid(self.fc2(x))  # Sigmoid for binary classification\n",
    "        return x\n",
    "\n",
    "# Step 1: Instantiate the model, define loss function and optimizer\n",
    "model = SimpleCNN()\n",
    "criterion = nn.BCELoss()  # Binary Cross-Entropy Loss for binary classification\n",
    "optimizer = optim.Adam(model.parameters(), lr=0.001)\n",
    "\n",
    "# Updated Training Function\n",
    "def train_model(model, train_loader, criterion, optimizer, num_epochs=5):\n",
    "    model.train()\n",
    "    for epoch in range(num_epochs):\n",
    "        running_loss = 0.0\n",
    "        for images, labels in tqdm(train_loader, desc=f\"Epoch {epoch+1}/{num_epochs}\"):\n",
    "            # Ensure images have shape [batch_size, 1, 28, 28]\n",
    "            images = images.float()  # No extra unsqueeze needed\n",
    "            labels = labels.float().unsqueeze(1)  # Only for labels if needed\n",
    "            \n",
    "            # Forward pass\n",
    "            outputs = model(images)\n",
    "            loss = criterion(outputs, labels)\n",
    "            \n",
    "            # Backward pass and optimization\n",
    "            optimizer.zero_grad()\n",
    "            loss.backward()\n",
    "            optimizer.step()\n",
    "            \n",
    "            running_loss += loss.item()\n",
    "        \n",
    "        # Print the loss at the end of each epoch\n",
    "        print(f\"Epoch [{epoch+1}/{num_epochs}], Loss: {running_loss/len(train_loader):.4f}\")\n",
    "\n",
    "\n",
    "# Step 3: Training the model\n",
    "num_epochs = 5  # Adjust as needed\n",
    "train_model(model, train_loader, criterion, optimizer, num_epochs)\n",
    "\n",
    "\n",
    "\n"
   ]
  },
  {
   "cell_type": "code",
   "execution_count": 22,
   "metadata": {},
   "outputs": [
    {
     "data": {
      "image/png": "[encoded data removed]",
      "text/plain": [
       "<Figure size 1200x600 with 4 Axes>"
      ]
     },
     "metadata": {},
     "output_type": "display_data"
    },
    {
     "data": {
      "image/png": "[encoded data removed]",
      "text/plain": [
       "<Figure size 1200x600 with 4 Axes>"
      ]
     },
     "metadata": {},
     "output_type": "display_data"
    },
    {
     "data": {
      "image/png": "[encoded data removed]",
      "text/plain": [
       "<Figure size 1200x600 with 4 Axes>"
      ]
     },
     "metadata": {},
     "output_type": "display_data"
    }
   ],
   "source": [
    "import matplotlib.pyplot as plt\n",
    "\n",
    "# Set model to evaluation mode\n",
    "model.eval()\n",
    "\n",
    "all_labels = []\n",
    "all_predictions = []\n",
    "\n",
    "# Initialize the counter for displayed images\n",
    "image_counter = 0\n",
    "\n",
    "with torch.no_grad():  # No need to compute gradients for evaluation\n",
    "    for images, labels in test_loader:\n",
    "        if image_counter >= 12:\n",
    "            break  # Stop after displaying 12 images\n",
    "        \n",
    "        images = images.float()  # Convert to float tensor if needed\n",
    "        labels = labels.float()  # No need to unsqueeze here if using sklearn metrics\n",
    "\n",
    "        # Display images (up to 12 in total)\n",
    "        num_images = min(5, images.size(0))  # Adjust based on batch size\n",
    "        fig, axes = plt.subplots(1, num_images, figsize=(12, 6))\n",
    "        for i in range(num_images):\n",
    "            ax = axes[i]\n",
    "            ax.imshow(images[i].cpu().numpy().squeeze(), cmap='gray')  # Show image\n",
    "            ax.set_title(f\"Label: {int(labels[i].item())}\")\n",
    "            ax.axis('off')  # Hide axis\n",
    "            image_counter += 1  # Increment the counter\n",
    "            if image_counter >= 12:\n",
    "                break  # Stop once 12 images are displayed\n",
    "        plt.show()\n",
    "\n"
   ]
  },
  {
   "cell_type": "code",
   "execution_count": 13,
   "metadata": {},
   "outputs": [
    {
     "name": "stdout",
     "output_type": "stream",
     "text": [
      "Test Accuracy: 100.00%\n",
      "Precision: 1.00\n",
      "Recall: 1.00\n",
      "F1-Score: 1.00\n",
      "Classification Report:\n",
      "               precision    recall  f1-score   support\n",
      "\n",
      "         1.0       1.00      1.00      1.00       135\n",
      "\n",
      "    accuracy                           1.00       135\n",
      "   macro avg       1.00      1.00      1.00       135\n",
      "weighted avg       1.00      1.00      1.00       135\n",
      "\n"
     ]
    }
   ],
   "source": [
    "from sklearn.metrics import accuracy_score, precision_score, recall_score, f1_score, classification_report\n",
    "\n",
    "def evaluate_model(model, test_loader):\n",
    "    model.eval()  # Set the model to evaluation mode\n",
    "    all_labels = []\n",
    "    all_predictions = []\n",
    "\n",
    "    with torch.no_grad():  # No need to compute gradients for evaluation\n",
    "        for images, labels in test_loader:\n",
    "            images = images.float()  # Convert to float tensor if needed\n",
    "            labels = labels.float()  # No need to unsqueeze here if using sklearn metrics\n",
    "\n",
    "            # Forward pass\n",
    "            outputs = model(images)\n",
    "            predictions = (outputs > 0.5).float()  # Apply threshold for binary classification\n",
    "\n",
    "            all_labels.extend(labels.cpu().numpy())  # Store true labels\n",
    "            all_predictions.extend(predictions.cpu().numpy())  # Store predictions\n",
    "\n",
    "    # Calculate metrics\n",
    "    accuracy = accuracy_score(all_labels, all_predictions) * 100\n",
    "    precision = precision_score(all_labels, all_predictions, zero_division=1)\n",
    "    recall = recall_score(all_labels, all_predictions, zero_division=1)\n",
    "    f1 = f1_score(all_labels, all_predictions, zero_division=1)\n",
    "    cr = classification_report(all_labels, all_predictions, zero_division=1)\n",
    "\n",
    "    print(f\"Test Accuracy: {accuracy:.2f}%\")\n",
    "    print(f\"Precision: {precision:.2f}\")\n",
    "    print(f\"Recall: {recall:.2f}\")\n",
    "    print(f\"F1-Score: {f1:.2f}\")\n",
    "    print(f\"Classification Report:\\n {cr}\")\n",
    "\n",
    "# Run evaluation\n",
    "evaluate_model(model, test_loader)"
   ]
  },
  {
   "cell_type": "code",
   "execution_count": null,
   "metadata": {},
   "outputs": [
    {
     "name": "stdout",
     "output_type": "stream",
     "text": [
      "Model saved to fine_tuned_model_label_1.pth\n"
     ]
    }
   ],
   "source": [
    "import torch\n",
    "\n",
    "# Save the model\n",
    "model_path = 'fine_tuned_model_label_1.pth' \n",
    "torch.save(model.state_dict(), model_path)\n",
    "\n",
    "print(f\"Model saved to {model_path}\")\n"
   ]
  }
 ],
 "metadata": {
  "kernelspec": {
   "display_name": "base",
   "language": "python",
   "name": "python3"
  },
  "language_info": {
   "codemirror_mode": {
    "name": "ipython",
    "version": 3
   },
   "file_extension": ".py",
   "mimetype": "text/x-python",
   "name": "python",
   "nbconvert_exporter": "python",
   "pygments_lexer": "ipython3",
   "version": "3.12.2"
  }
 },
 "nbformat": 4,
 "nbformat_minor": 2
}
