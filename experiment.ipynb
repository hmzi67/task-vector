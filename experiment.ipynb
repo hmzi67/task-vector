{
 "cells": [
  {
   "cell_type": "code",
   "execution_count": 1,
   "metadata": {},
   "outputs": [],
   "source": [
    "import os\n",
    "import torch\n",
    "import torch.nn as nn\n",
    "import torch.optim as optim\n",
    "import torchvision\n",
    "from torchvision import transforms\n",
    "from torch.utils.data import DataLoader\n",
    "from torcheval.metrics.functional import multiclass_precision\n",
    "from tqdm import tqdm\n",
    "import pickle\n",
    "import numpy as np\n",
    "from sklearn.metrics import confusion_matrix, classification_report\n",
    "import matplotlib.pyplot as plt\n",
    "from torchmetrics import Accuracy, Precision, Recall, F1Score\n"
   ]
  },
  {
   "cell_type": "code",
   "execution_count": 2,
   "metadata": {},
   "outputs": [],
   "source": [
    "selected_classes = [3, 4, 7]\n",
    "pickle_dir = 'pickles'\n",
    "pytorch_chkpt_dir = 'pt-saves'\n",
    "pretrained_model_path = f\"{pytorch_chkpt_dir}/mnist_pt.pth\""
   ]
  },
  {
   "cell_type": "code",
   "execution_count": 3,
   "metadata": {},
   "outputs": [],
   "source": [
    "# create folder if not exists\n",
    "os.makedirs(pickle_dir, exist_ok=True)\n",
    "os.makedirs(pytorch_chkpt_dir, exist_ok=True)"
   ]
  },
  {
   "cell_type": "code",
   "execution_count": 4,
   "metadata": {},
   "outputs": [],
   "source": [
    "# Define a simple neural network model\n",
    "class SimpleNN(nn.Module):\n",
    "    def __init__(self):\n",
    "        super(SimpleNN, self).__init__()\n",
    "        self.fc1 = nn.Linear(28*28, 128)  # Input layer (MNIST images are 28x28)\n",
    "        self.fc2 = nn.Linear(128, 64)     # Hidden layer\n",
    "        self.fc3 = nn.Linear(64, 10)      # Output layer (10 classes for MNIST digits)\n",
    "\n",
    "    def forward(self, x):\n",
    "        x = x.view(-1, 28*28)  # Flatten the image\n",
    "        x = torch.relu(self.fc1(x))  # ReLU activation for the first layer\n",
    "        x = torch.relu(self.fc2(x))  # ReLU activation for the second layer\n",
    "        x = self.fc3(x)  # Output layer\n",
    "        return x"
   ]
  },
  {
   "cell_type": "code",
   "execution_count": 5,
   "metadata": {},
   "outputs": [],
   "source": [
    "def train_model(model, train_loader, num_epochs=20, fine_tuning=False):\n",
    "    # Loss function and optimizer\n",
    "    criterion = nn.CrossEntropyLoss()\n",
    "    optimizer = optim.Adam(model.parameters(), lr=0.001)\n",
    "    # Set the model to training mode\n",
    "    model.train()\n",
    "    # Training loop\n",
    "    for epoch in range(num_epochs):\n",
    "        running_loss = 0.0\n",
    "        # Create a progress bar for the current epoch\n",
    "        with tqdm(total=len(train_loader), desc=f\"Epoch [{epoch+1}/{num_epochs}]\", unit=\"batch\") as pbar:\n",
    "            for inputs, labels in train_loader:\n",
    "                # Zero the gradients\n",
    "                optimizer.zero_grad()\n",
    "                # Forward pass\n",
    "                outputs = model(inputs)\n",
    "                loss = criterion(outputs, labels)\n",
    "                # Backward pass and optimization\n",
    "                loss.backward()\n",
    "                optimizer.step()\n",
    "                # Track the running loss\n",
    "                running_loss += loss.item()\n",
    "                # Update the progress bar\n",
    "                pbar.set_postfix({\"Loss\": f\"{running_loss / len(train_loader):.4f}\"})\n",
    "                pbar.update(1)\n",
    "    if fine_tuning:\n",
    "        print(\"Fine-tuning complete!\")\n",
    "    else:\n",
    "        print(\"Training complete!\")"
   ]
  },
  {
   "cell_type": "code",
   "execution_count": 6,
   "metadata": {},
   "outputs": [],
   "source": [
    "def load_from_pickle(pickle_name):\n",
    "    pickled_data = pickle.load(open(f\"{pickle_dir}/{pickle_name}\", \"rb\"))\n",
    "    return DataLoader(pickled_data, batch_size=32, shuffle=True)"
   ]
  },
  {
   "cell_type": "code",
   "execution_count": 7,
   "metadata": {},
   "outputs": [],
   "source": [
    "def load_pretrained_model():\n",
    "    model_pt = SimpleNN()\n",
    "    mnist_pt = torch.load(pretrained_model_path)\n",
    "    model_pt.load_state_dict(mnist_pt)\n",
    "    return model_pt"
   ]
  },
  {
   "cell_type": "code",
   "execution_count": 8,
   "metadata": {},
   "outputs": [],
   "source": [
    "def evaluate_model(model, test_loader):\n",
    "    # Set the model to evaluation mode\n",
    "    model.eval()\n",
    "    # Initialize variables to track the predictions and true labels\n",
    "    all_predictions = []\n",
    "    all_labels = []\n",
    "    # No gradients needed for evaluation\n",
    "    with torch.no_grad():\n",
    "        for inputs, labels in test_loader:\n",
    "            # Forward pass: Get model predictions\n",
    "            outputs = model(inputs)\n",
    "            \n",
    "            # Get the predicted class by finding the class with the highest score\n",
    "            _, predicted = torch.max(outputs, 1)\n",
    "            \n",
    "            # Store the predictions and true labels for metric calculation\n",
    "            all_predictions.extend(predicted.cpu().numpy())\n",
    "            all_labels.extend(labels.cpu().numpy())\n",
    "            \n",
    "    # Convert lists to numpy arrays\n",
    "    all_predictions = np.array(all_predictions)\n",
    "    all_labels = np.array(all_labels)\n",
    "\n",
    "    cr = classification_report(all_labels, all_predictions)\n",
    "    print(f'Classification report for tain data:\\n{cr}')\n",
    "\n",
    "    # Confusion Matrix\n",
    "    # conf_matrix = confusion_matrix(all_labels, all_predictions)"
   ]
  },
  {
   "cell_type": "code",
   "execution_count": 9,
   "metadata": {},
   "outputs": [],
   "source": [
    "def plot_mnist_data(loader):\n",
    "    images, labels = next(iter(loader))\n",
    "    # Create a grid of images (8x8) for display\n",
    "    grid = torchvision.utils.make_grid(images[:64], nrow=8, padding=2, normalize=True)\n",
    "    # Display the images in a grid\n",
    "    plt.figure(figsize=(4, 8))\n",
    "    plt.imshow(grid.permute(1, 2, 0))  # Rearrange dimensions for matplotlib (H x W x C)\n",
    "    plt.axis('off')\n",
    "    plt.title(\"Sample MNIST Images\")\n",
    "    plt.show()"
   ]
  },
  {
   "cell_type": "markdown",
   "metadata": {},
   "source": [
    "## Part 1: Split Data"
   ]
  },
  {
   "cell_type": "code",
   "execution_count": 10,
   "metadata": {},
   "outputs": [],
   "source": [
    "# Define the transformations to apply to each image\n",
    "transform = transforms.Compose([\n",
    "    transforms.ToTensor(),  # Convert the images to tensors\n",
    "    transforms.Normalize((0.5,), (0.5,))  # Normalize to [-1, 1] range\n",
    "])"
   ]
  },
  {
   "cell_type": "code",
   "execution_count": 11,
   "metadata": {},
   "outputs": [],
   "source": [
    "# Load the MNIST training and testing datasets\n",
    "mnist_train = torchvision.datasets.MNIST(\n",
    "    root='./data',  # Directory where the data will be stored\n",
    "    train=True,     # Load the training dataset\n",
    "    transform=transform,  # Apply the transformations\n",
    "    download=True   # Download the dataset if not already present\n",
    ")"
   ]
  },
  {
   "cell_type": "code",
   "execution_count": 12,
   "metadata": {},
   "outputs": [],
   "source": [
    "mnist_test = torchvision.datasets.MNIST(\n",
    "    root='./data',\n",
    "    train=False,    # Load the test dataset\n",
    "    transform=transform,\n",
    "    download=True\n",
    ")"
   ]
  },
  {
   "cell_type": "code",
   "execution_count": 13,
   "metadata": {},
   "outputs": [
    {
     "name": "stdout",
     "output_type": "stream",
     "text": [
      "Class 4 has 1000 samples\n",
      "Class 3 has 1000 samples\n",
      "Class 7 has 1000 samples\n",
      "Remaining list has 57000 samples\n"
     ]
    }
   ],
   "source": [
    "selected = {}\n",
    "remaining = []\n",
    "for i in mnist_train:\n",
    "    if i[1] in selected_classes:\n",
    "        if i[1] not in selected:\n",
    "            selected[i[1]] = []\n",
    "        if len(selected[i[1]]) < 1000:\n",
    "            selected[i[1]].append(i)\n",
    "        else:\n",
    "            remaining.append(i)\n",
    "    else:\n",
    "        remaining.append(i)\n",
    "\n",
    "for sc in selected:\n",
    "    print(f\"Class {sc} has {len(selected[sc])} samples\")\n",
    "    # write training datasets for fine-tuning to pickles\n",
    "    pickle.dump(selected[sc], open(f\"{pickle_dir}/train_{sc}.pkl\", \"wb\"))\n",
    "# write remaining dataset to separate pickle as well\n",
    "print(f\"Remaining list has {len(remaining)} samples\")\n",
    "pickle.dump(remaining, open(f\"{pickle_dir}/train_rem.pkl\", \"wb\"))"
   ]
  },
  {
   "cell_type": "markdown",
   "metadata": {},
   "source": [
    "## Part 2: Train Model as Pretrained and Computation of its Functional Metrics"
   ]
  },
  {
   "cell_type": "code",
   "execution_count": 16,
   "metadata": {},
   "outputs": [],
   "source": [
    "# load the data from pickle\n",
    "train_loader = load_from_pickle(\"train_rem.pkl\")\n",
    "test_loader = DataLoader(mnist_test, batch_size=128, shuffle=True)"
   ]
  },
  {
   "cell_type": "code",
   "execution_count": 15,
   "metadata": {},
   "outputs": [
    {
     "name": "stderr",
     "output_type": "stream",
     "text": [
      "Epoch [1/50]: 100%|██████████| 1782/1782 [00:07<00:00, 243.17batch/s, Loss=0.3645]\n",
      "Epoch [2/50]: 100%|██████████| 1782/1782 [00:07<00:00, 245.64batch/s, Loss=0.1735]\n",
      "Epoch [3/50]: 100%|██████████| 1782/1782 [00:07<00:00, 247.07batch/s, Loss=0.1319]\n",
      "Epoch [4/50]: 100%|██████████| 1782/1782 [00:07<00:00, 242.09batch/s, Loss=0.1111]\n",
      "Epoch [5/50]: 100%|██████████| 1782/1782 [00:07<00:00, 247.40batch/s, Loss=0.0924]\n",
      "Epoch [6/50]: 100%|██████████| 1782/1782 [00:07<00:00, 246.59batch/s, Loss=0.0840]\n",
      "Epoch [7/50]: 100%|██████████| 1782/1782 [00:07<00:00, 250.65batch/s, Loss=0.0742]\n",
      "Epoch [8/50]: 100%|██████████| 1782/1782 [00:07<00:00, 248.96batch/s, Loss=0.0681]\n",
      "Epoch [9/50]: 100%|██████████| 1782/1782 [00:07<00:00, 242.56batch/s, Loss=0.0628]\n",
      "Epoch [10/50]: 100%|██████████| 1782/1782 [00:07<00:00, 233.60batch/s, Loss=0.0571]\n",
      "Epoch [11/50]: 100%|██████████| 1782/1782 [00:07<00:00, 244.51batch/s, Loss=0.0514]\n",
      "Epoch [12/50]: 100%|██████████| 1782/1782 [00:07<00:00, 239.32batch/s, Loss=0.0508]\n",
      "Epoch [13/50]: 100%|██████████| 1782/1782 [00:07<00:00, 235.15batch/s, Loss=0.0484]\n",
      "Epoch [14/50]: 100%|██████████| 1782/1782 [00:07<00:00, 243.42batch/s, Loss=0.0433]\n",
      "Epoch [15/50]: 100%|██████████| 1782/1782 [00:07<00:00, 233.46batch/s, Loss=0.0423]\n",
      "Epoch [16/50]: 100%|██████████| 1782/1782 [00:07<00:00, 233.01batch/s, Loss=0.0431]\n",
      "Epoch [17/50]: 100%|██████████| 1782/1782 [00:07<00:00, 242.94batch/s, Loss=0.0358]\n",
      "Epoch [18/50]: 100%|██████████| 1782/1782 [00:07<00:00, 244.14batch/s, Loss=0.0377]\n",
      "Epoch [19/50]: 100%|██████████| 1782/1782 [00:07<00:00, 227.78batch/s, Loss=0.0361]\n",
      "Epoch [20/50]: 100%|██████████| 1782/1782 [00:07<00:00, 230.10batch/s, Loss=0.0312]\n",
      "Epoch [21/50]: 100%|██████████| 1782/1782 [00:07<00:00, 226.76batch/s, Loss=0.0312]\n",
      "Epoch [22/50]: 100%|██████████| 1782/1782 [00:07<00:00, 234.41batch/s, Loss=0.0305]\n",
      "Epoch [23/50]: 100%|██████████| 1782/1782 [00:07<00:00, 237.37batch/s, Loss=0.0305]\n",
      "Epoch [24/50]: 100%|██████████| 1782/1782 [00:07<00:00, 236.46batch/s, Loss=0.0289]\n",
      "Epoch [25/50]: 100%|██████████| 1782/1782 [00:07<00:00, 237.31batch/s, Loss=0.0309]\n",
      "Epoch [26/50]: 100%|██████████| 1782/1782 [00:08<00:00, 222.12batch/s, Loss=0.0256]\n",
      "Epoch [27/50]: 100%|██████████| 1782/1782 [00:07<00:00, 235.87batch/s, Loss=0.0296]\n",
      "Epoch [28/50]: 100%|██████████| 1782/1782 [00:07<00:00, 231.33batch/s, Loss=0.0248]\n",
      "Epoch [29/50]: 100%|██████████| 1782/1782 [00:07<00:00, 230.24batch/s, Loss=0.0267]\n",
      "Epoch [30/50]: 100%|██████████| 1782/1782 [00:07<00:00, 232.76batch/s, Loss=0.0240]\n",
      "Epoch [31/50]: 100%|██████████| 1782/1782 [00:07<00:00, 227.96batch/s, Loss=0.0221]\n",
      "Epoch [32/50]: 100%|██████████| 1782/1782 [00:07<00:00, 231.28batch/s, Loss=0.0260]\n",
      "Epoch [33/50]: 100%|██████████| 1782/1782 [00:07<00:00, 230.95batch/s, Loss=0.0233]\n",
      "Epoch [34/50]: 100%|██████████| 1782/1782 [00:07<00:00, 226.81batch/s, Loss=0.0251]\n",
      "Epoch [35/50]: 100%|██████████| 1782/1782 [00:08<00:00, 206.47batch/s, Loss=0.0214]\n",
      "Epoch [36/50]: 100%|██████████| 1782/1782 [00:08<00:00, 198.51batch/s, Loss=0.0227]\n",
      "Epoch [37/50]: 100%|██████████| 1782/1782 [00:08<00:00, 198.79batch/s, Loss=0.0202]\n",
      "Epoch [38/50]: 100%|██████████| 1782/1782 [00:08<00:00, 221.48batch/s, Loss=0.0246]\n",
      "Epoch [39/50]: 100%|██████████| 1782/1782 [00:08<00:00, 217.09batch/s, Loss=0.0209]\n",
      "Epoch [40/50]: 100%|██████████| 1782/1782 [00:08<00:00, 214.55batch/s, Loss=0.0250]\n",
      "Epoch [41/50]: 100%|██████████| 1782/1782 [00:08<00:00, 209.40batch/s, Loss=0.0209]\n",
      "Epoch [42/50]: 100%|██████████| 1782/1782 [00:08<00:00, 210.92batch/s, Loss=0.0164]\n",
      "Epoch [43/50]: 100%|██████████| 1782/1782 [00:08<00:00, 204.34batch/s, Loss=0.0232]\n",
      "Epoch [44/50]: 100%|██████████| 1782/1782 [00:08<00:00, 210.36batch/s, Loss=0.0188]\n",
      "Epoch [45/50]: 100%|██████████| 1782/1782 [00:08<00:00, 212.46batch/s, Loss=0.0210]\n",
      "Epoch [46/50]: 100%|██████████| 1782/1782 [00:08<00:00, 208.01batch/s, Loss=0.0195]\n",
      "Epoch [47/50]: 100%|██████████| 1782/1782 [00:08<00:00, 211.07batch/s, Loss=0.0217]\n",
      "Epoch [48/50]: 100%|██████████| 1782/1782 [00:08<00:00, 203.16batch/s, Loss=0.0186]\n",
      "Epoch [49/50]: 100%|██████████| 1782/1782 [00:08<00:00, 207.15batch/s, Loss=0.0209]\n",
      "Epoch [50/50]: 100%|██████████| 1782/1782 [00:08<00:00, 204.45batch/s, Loss=0.0179]\n"
     ]
    },
    {
     "name": "stdout",
     "output_type": "stream",
     "text": [
      "Training complete!\n"
     ]
    }
   ],
   "source": [
    "# Initialize the model\n",
    "model = SimpleNN()\n",
    "train_model(model, train_loader, num_epochs=50)"
   ]
  },
  {
   "cell_type": "code",
   "execution_count": 17,
   "metadata": {},
   "outputs": [
    {
     "name": "stdout",
     "output_type": "stream",
     "text": [
      "Classification report for tain data:\n",
      "              precision    recall  f1-score   support\n",
      "\n",
      "           0       0.98      0.99      0.98       980\n",
      "           1       0.98      0.99      0.99      1135\n",
      "           2       0.96      0.98      0.97      1032\n",
      "           3       0.97      0.97      0.97      1010\n",
      "           4       0.97      0.98      0.98       982\n",
      "           5       0.98      0.96      0.97       892\n",
      "           6       0.99      0.97      0.98       958\n",
      "           7       0.98      0.96      0.97      1028\n",
      "           8       0.97      0.97      0.97       974\n",
      "           9       0.96      0.97      0.96      1009\n",
      "\n",
      "    accuracy                           0.97     10000\n",
      "   macro avg       0.97      0.97      0.97     10000\n",
      "weighted avg       0.97      0.97      0.97     10000\n",
      "\n"
     ]
    }
   ],
   "source": [
    "evaluate_model(model, test_loader)"
   ]
  },
  {
   "cell_type": "code",
   "execution_count": 18,
   "metadata": {},
   "outputs": [],
   "source": [
    "# load the data from pickle\n",
    "train_loader_3 = load_from_pickle(\"train_3.pkl\")\n",
    "train_loader_4 = load_from_pickle(\"train_4.pkl\")\n",
    "train_loader_7 = load_from_pickle(\"train_7.pkl\")\n",
    "# Initialize the model\n",
    "# model_ft_3 = load_pretrained_model()"
   ]
  },
  {
   "cell_type": "code",
   "execution_count": 18,
   "metadata": {},
   "outputs": [
    {
     "data": {
      "image/png": "[encoded data removed]",
      "text/plain": [
       "<Figure size 400x800 with 1 Axes>"
      ]
     },
     "metadata": {},
     "output_type": "display_data"
    }
   ],
   "source": [
    "plot_mnist_data(train_loader_3)"
   ]
  },
  {
   "cell_type": "code",
   "execution_count": 23,
   "metadata": {},
   "outputs": [
    {
     "data": {
      "image/png": "[encoded data removed]",
      "text/plain": [
       "<Figure size 400x800 with 1 Axes>"
      ]
     },
     "metadata": {},
     "output_type": "display_data"
    }
   ],
   "source": [
    "plot_mnist_data(train_loader_4)"
   ]
  },
  {
   "cell_type": "code",
   "execution_count": 26,
   "metadata": {},
   "outputs": [
    {
     "data": {
      "image/png": "[encoded data removed]",
      "text/plain": [
       "<Figure size 400x800 with 1 Axes>"
      ]
     },
     "metadata": {},
     "output_type": "display_data"
    }
   ],
   "source": [
    "plot_mnist_data(train_loader_7)"
   ]
  },
  {
   "cell_type": "code",
   "execution_count": 19,
   "metadata": {},
   "outputs": [
    {
     "name": "stderr",
     "output_type": "stream",
     "text": [
      "Epoch [1/5]: 100%|██████████| 32/32 [00:00<00:00, 109.00batch/s, Loss=0.1241]\n",
      "Epoch [2/5]: 100%|██████████| 32/32 [00:00<00:00, 298.90batch/s, Loss=0.0126]\n",
      "Epoch [3/5]: 100%|██████████| 32/32 [00:00<00:00, 196.20batch/s, Loss=0.0000]\n",
      "Epoch [4/5]: 100%|██████████| 32/32 [00:00<00:00, 313.54batch/s, Loss=0.0000]\n",
      "Epoch [5/5]: 100%|██████████| 32/32 [00:00<00:00, 294.81batch/s, Loss=0.0000]"
     ]
    },
    {
     "name": "stdout",
     "output_type": "stream",
     "text": [
      "Fine-tuning complete!\n"
     ]
    },
    {
     "name": "stderr",
     "output_type": "stream",
     "text": [
      "\n"
     ]
    }
   ],
   "source": [
    "train_model(model, train_loader_3, num_epochs=5, fine_tuning=True)"
   ]
  },
  {
   "cell_type": "code",
   "execution_count": 20,
   "metadata": {},
   "outputs": [
    {
     "name": "stdout",
     "output_type": "stream",
     "text": [
      "Classification report for tain data:\n",
      "              precision    recall  f1-score   support\n",
      "\n",
      "           0       0.99      0.89      0.94       980\n",
      "           1       0.99      0.34      0.51      1135\n",
      "           2       0.94      0.57      0.71      1032\n",
      "           3       0.20      1.00      0.34      1010\n",
      "           4       0.99      0.77      0.87       982\n",
      "           5       0.90      0.62      0.73       892\n",
      "           6       0.99      0.79      0.88       958\n",
      "           7       0.97      0.22      0.36      1028\n",
      "           8       0.89      0.38      0.54       974\n",
      "           9       0.80      0.28      0.42      1009\n",
      "\n",
      "    accuracy                           0.58     10000\n",
      "   macro avg       0.87      0.59      0.63     10000\n",
      "weighted avg       0.87      0.58      0.62     10000\n",
      "\n"
     ]
    }
   ],
   "source": [
    "evaluate_model(model, test_loader)"
   ]
  },
  {
   "cell_type": "code",
   "execution_count": 21,
   "metadata": {},
   "outputs": [
    {
     "name": "stderr",
     "output_type": "stream",
     "text": [
      "Epoch [1/5]: 100%|██████████| 32/32 [00:00<00:00, 142.67batch/s, Loss=0.2184]\n",
      "Epoch [2/5]: 100%|██████████| 32/32 [00:00<00:00, 242.87batch/s, Loss=0.0000]\n",
      "Epoch [3/5]: 100%|██████████| 32/32 [00:00<00:00, 301.53batch/s, Loss=0.0000]\n",
      "Epoch [4/5]: 100%|██████████| 32/32 [00:00<00:00, 196.72batch/s, Loss=0.0000]\n",
      "Epoch [5/5]: 100%|██████████| 32/32 [00:00<00:00, 332.57batch/s, Loss=0.0000]"
     ]
    },
    {
     "name": "stdout",
     "output_type": "stream",
     "text": [
      "Fine-tuning complete!\n"
     ]
    },
    {
     "name": "stderr",
     "output_type": "stream",
     "text": [
      "\n"
     ]
    }
   ],
   "source": [
    "train_model(model, train_loader_4, num_epochs=5, fine_tuning=True)"
   ]
  },
  {
   "cell_type": "code",
   "execution_count": 22,
   "metadata": {},
   "outputs": [
    {
     "name": "stdout",
     "output_type": "stream",
     "text": [
      "Classification report for tain data:\n",
      "              precision    recall  f1-score   support\n",
      "\n",
      "           0       0.99      0.96      0.98       980\n",
      "           1       0.99      0.93      0.96      1135\n",
      "           2       0.99      0.80      0.88      1032\n",
      "           3       0.62      0.99      0.77      1010\n",
      "           4       0.46      1.00      0.63       982\n",
      "           5       0.98      0.67      0.80       892\n",
      "           6       0.99      0.91      0.95       958\n",
      "           7       0.99      0.72      0.84      1028\n",
      "           8       0.96      0.85      0.90       974\n",
      "           9       0.88      0.29      0.44      1009\n",
      "\n",
      "    accuracy                           0.81     10000\n",
      "   macro avg       0.89      0.81      0.81     10000\n",
      "weighted avg       0.89      0.81      0.82     10000\n",
      "\n"
     ]
    }
   ],
   "source": [
    "evaluate_model(model, test_loader)"
   ]
  },
  {
   "cell_type": "code",
   "execution_count": 23,
   "metadata": {},
   "outputs": [
    {
     "name": "stderr",
     "output_type": "stream",
     "text": [
      "Epoch [1/5]: 100%|██████████| 32/32 [00:00<00:00, 151.77batch/s, Loss=0.2604]\n",
      "Epoch [2/5]: 100%|██████████| 32/32 [00:00<00:00, 259.79batch/s, Loss=0.0001]\n",
      "Epoch [3/5]: 100%|██████████| 32/32 [00:00<00:00, 301.49batch/s, Loss=0.0000]\n",
      "Epoch [4/5]: 100%|██████████| 32/32 [00:00<00:00, 190.36batch/s, Loss=0.0000]\n",
      "Epoch [5/5]: 100%|██████████| 32/32 [00:00<00:00, 328.04batch/s, Loss=0.0000]"
     ]
    },
    {
     "name": "stdout",
     "output_type": "stream",
     "text": [
      "Fine-tuning complete!\n"
     ]
    },
    {
     "name": "stderr",
     "output_type": "stream",
     "text": [
      "\n"
     ]
    }
   ],
   "source": [
    "train_model(model, train_loader_7, num_epochs=5, fine_tuning=True)"
   ]
  },
  {
   "cell_type": "code",
   "execution_count": 24,
   "metadata": {},
   "outputs": [
    {
     "name": "stdout",
     "output_type": "stream",
     "text": [
      "Classification report for tain data:\n",
      "              precision    recall  f1-score   support\n",
      "\n",
      "           0       0.98      0.96      0.97       980\n",
      "           1       0.99      0.78      0.87      1135\n",
      "           2       0.98      0.83      0.90      1032\n",
      "           3       0.74      0.96      0.84      1010\n",
      "           4       0.94      0.93      0.94       982\n",
      "           5       0.99      0.67      0.80       892\n",
      "           6       0.99      0.91      0.95       958\n",
      "           7       0.46      1.00      0.63      1028\n",
      "           8       0.96      0.83      0.89       974\n",
      "           9       0.96      0.42      0.58      1009\n",
      "\n",
      "    accuracy                           0.83     10000\n",
      "   macro avg       0.90      0.83      0.84     10000\n",
      "weighted avg       0.90      0.83      0.84     10000\n",
      "\n"
     ]
    }
   ],
   "source": [
    "evaluate_model(model, test_loader)"
   ]
  },
  {
   "cell_type": "code",
   "execution_count": 25,
   "metadata": {},
   "outputs": [],
   "source": [
    "train_loader_3 = load_from_pickle(\"train_3.pkl\")\n",
    "train_loader_4 = load_from_pickle(\"train_4.pkl\")\n",
    "train_loader_7 = load_from_pickle(\"train_7.pkl\")"
   ]
  },
  {
   "cell_type": "code",
   "execution_count": 26,
   "metadata": {},
   "outputs": [
    {
     "name": "stderr",
     "output_type": "stream",
     "text": [
      "Epoch [1/5]: 100%|██████████| 32/32 [00:00<00:00, 210.07batch/s, Loss=0.0546]\n",
      "Epoch [2/5]: 100%|██████████| 32/32 [00:00<00:00, 171.94batch/s, Loss=0.0000]\n",
      "Epoch [3/5]: 100%|██████████| 32/32 [00:00<00:00, 291.55batch/s, Loss=0.0000]\n",
      "Epoch [4/5]: 100%|██████████| 32/32 [00:00<00:00, 306.47batch/s, Loss=0.0000]\n",
      "Epoch [5/5]: 100%|██████████| 32/32 [00:00<00:00, 203.09batch/s, Loss=0.0000]\n"
     ]
    },
    {
     "name": "stdout",
     "output_type": "stream",
     "text": [
      "Fine-tuning complete!\n"
     ]
    },
    {
     "name": "stderr",
     "output_type": "stream",
     "text": [
      "Epoch [1/5]: 100%|██████████| 32/32 [00:00<00:00, 310.99batch/s, Loss=0.0342]\n",
      "Epoch [2/5]: 100%|██████████| 32/32 [00:00<00:00, 196.39batch/s, Loss=0.0000]\n",
      "Epoch [3/5]: 100%|██████████| 32/32 [00:00<00:00, 286.56batch/s, Loss=0.0000]\n",
      "Epoch [4/5]: 100%|██████████| 32/32 [00:00<00:00, 198.90batch/s, Loss=0.0000]\n",
      "Epoch [5/5]: 100%|██████████| 32/32 [00:00<00:00, 301.66batch/s, Loss=0.0000]\n"
     ]
    },
    {
     "name": "stdout",
     "output_type": "stream",
     "text": [
      "Fine-tuning complete!\n"
     ]
    },
    {
     "name": "stderr",
     "output_type": "stream",
     "text": [
      "Epoch [1/5]: 100%|██████████| 32/32 [00:00<00:00, 283.59batch/s, Loss=0.0562]\n",
      "Epoch [2/5]: 100%|██████████| 32/32 [00:00<00:00, 196.52batch/s, Loss=0.0000]\n",
      "Epoch [3/5]: 100%|██████████| 32/32 [00:00<00:00, 327.27batch/s, Loss=0.0000]\n",
      "Epoch [4/5]: 100%|██████████| 32/32 [00:00<00:00, 199.93batch/s, Loss=0.0000]\n",
      "Epoch [5/5]: 100%|██████████| 32/32 [00:00<00:00, 308.58batch/s, Loss=0.0000]"
     ]
    },
    {
     "name": "stdout",
     "output_type": "stream",
     "text": [
      "Fine-tuning complete!\n"
     ]
    },
    {
     "name": "stderr",
     "output_type": "stream",
     "text": [
      "\n"
     ]
    }
   ],
   "source": [
    "train_model(model, train_loader_3, num_epochs=5, fine_tuning=True)\n",
    "train_model(model, train_loader_4, num_epochs=5, fine_tuning=True)\n",
    "train_model(model, train_loader_7, num_epochs=5, fine_tuning=True)"
   ]
  },
  {
   "cell_type": "code",
   "execution_count": 27,
   "metadata": {},
   "outputs": [
    {
     "name": "stdout",
     "output_type": "stream",
     "text": [
      "Classification report for tain data:\n",
      "              precision    recall  f1-score   support\n",
      "\n",
      "           0       0.97      0.94      0.95       980\n",
      "           1       0.99      0.79      0.88      1135\n",
      "           2       0.99      0.63      0.77      1032\n",
      "           3       0.70      0.97      0.81      1010\n",
      "           4       0.93      0.88      0.90       982\n",
      "           5       0.98      0.72      0.83       892\n",
      "           6       0.98      0.93      0.95       958\n",
      "           7       0.40      1.00      0.57      1028\n",
      "           8       0.98      0.82      0.89       974\n",
      "           9       0.97      0.20      0.33      1009\n",
      "\n",
      "    accuracy                           0.79     10000\n",
      "   macro avg       0.89      0.79      0.79     10000\n",
      "weighted avg       0.89      0.79      0.79     10000\n",
      "\n"
     ]
    }
   ],
   "source": [
    "evaluate_model(model, test_loader)"
   ]
  },
  {
   "cell_type": "code",
   "execution_count": 28,
   "metadata": {},
   "outputs": [
    {
     "name": "stdout",
     "output_type": "stream",
     "text": [
      "Model saved successfully!\n"
     ]
    }
   ],
   "source": [
    "# Save the model\n",
    "torch.save(model.state_dict(), pretrained_model_path)\n",
    "print(\"Model saved successfully!\")"
   ]
  },
  {
   "cell_type": "code",
   "execution_count": null,
   "metadata": {},
   "outputs": [],
   "source": []
  }
 ],
 "metadata": {
  "kernelspec": {
   "display_name": "base",
   "language": "python",
   "name": "python3"
  },
  "language_info": {
   "codemirror_mode": {
    "name": "ipython",
    "version": 3
   },
   "file_extension": ".py",
   "mimetype": "text/x-python",
   "name": "python",
   "nbconvert_exporter": "python",
   "pygments_lexer": "ipython3",
   "version": "3.12.2"
  }
 },
 "nbformat": 4,
 "nbformat_minor": 2
}
