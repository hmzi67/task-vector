{
 "cells": [
  {
   "cell_type": "code",
   "execution_count": 1,
   "metadata": {},
   "outputs": [],
   "source": [
    "import torch\n",
    "from torchvision import datasets, transforms\n",
    "from torch.utils.data import DataLoader, Subset\n",
    "import torch.nn as nn\n",
    "import torch.optim as optim\n",
    "import pickle\n",
    "from sklearn.metrics import precision_score, recall_score, f1_score"
   ]
  },
  {
   "cell_type": "code",
   "execution_count": 2,
   "metadata": {},
   "outputs": [],
   "source": [
    "# Step 1: Data Preparation\n",
    "transform = transforms.Compose([\n",
    "    transforms.ToTensor(),\n",
    "    transforms.Normalize((0.5,), (0.5,))  # Normalize the MNIST dataset\n",
    "])"
   ]
  },
  {
   "cell_type": "code",
   "execution_count": 3,
   "metadata": {},
   "outputs": [],
   "source": [
    "# Load MNIST dataset\n",
    "train_dataset = datasets.MNIST(root='./data', train=True, transform=transform, download=True)\n",
    "test_dataset = datasets.MNIST(root='./data', train=False, transform=transform, download=True)"
   ]
  },
  {
   "cell_type": "code",
   "execution_count": 4,
   "metadata": {},
   "outputs": [],
   "source": [
    "# Extract specific classes (3, 4, 7)\n",
    "def extract_classes(dataset, classes):\n",
    "    indices = [i for i, (_, label) in enumerate(dataset) if label in classes]\n",
    "    subset = Subset(dataset, indices)\n",
    "    label_map = {old_label: new_label for new_label, old_label in enumerate(classes)}\n",
    "    mapped_labels = [(dataset[i][0], label_map[dataset[i][1]]) for i in indices]\n",
    "    return mapped_labels"
   ]
  },
  {
   "cell_type": "code",
   "execution_count": 5,
   "metadata": {},
   "outputs": [],
   "source": [
    "selected_classes = [3, 4, 7]\n",
    "train_subset = extract_classes(train_dataset, selected_classes)\n",
    "test_subset = extract_classes(test_dataset, selected_classes)"
   ]
  },
  {
   "cell_type": "code",
   "execution_count": 6,
   "metadata": {},
   "outputs": [],
   "source": [
    "# Function to save datasets in pickle format\n",
    "def save_data_to_pickle(dataset, filename):\n",
    "    data = {'images': [], 'labels': []}\n",
    "    for img, label in dataset:\n",
    "        data['images'].append(img.numpy())\n",
    "        data['labels'].append(label)\n",
    "    with open(filename, 'wb') as f:\n",
    "        pickle.dump(data, f)"
   ]
  },
  {
   "cell_type": "code",
   "execution_count": 7,
   "metadata": {},
   "outputs": [],
   "source": [
    "# Save individual class datasets\n",
    "save_data_to_pickle(train_subset, 'train_rem.pkl')\n",
    "for cls in selected_classes:\n",
    "    class_subset = extract_classes(train_dataset, [cls])\n",
    "    save_data_to_pickle(class_subset, f'train_{cls}.pkl')"
   ]
  },
  {
   "cell_type": "code",
   "execution_count": 8,
   "metadata": {},
   "outputs": [],
   "source": [
    "# Create DataLoaders\n",
    "def create_dataloader(dataset, batch_size=64, shuffle=True):\n",
    "    images, labels = zip(*dataset)\n",
    "    images = torch.stack(images)\n",
    "    labels = torch.tensor(labels)\n",
    "    return DataLoader(list(zip(images, labels)), batch_size=batch_size, shuffle=shuffle)\n"
   ]
  },
  {
   "cell_type": "code",
   "execution_count": 9,
   "metadata": {},
   "outputs": [],
   "source": [
    "train_loader = create_dataloader(train_subset)\n",
    "test_loader = create_dataloader(test_subset)\n"
   ]
  },
  {
   "cell_type": "code",
   "execution_count": 10,
   "metadata": {},
   "outputs": [],
   "source": [
    "# Step 2: Model Definition\n",
    "class SimpleNN(nn.Module):\n",
    "    def __init__(self):\n",
    "        super(SimpleNN, self).__init__()\n",
    "        self.fc1 = nn.Linear(28 * 28, 128)\n",
    "        self.fc2 = nn.Linear(128, 64)\n",
    "        self.fc3 = nn.Linear(64, len(selected_classes))\n",
    "\n",
    "    def forward(self, x):\n",
    "        x = x.view(x.size(0), -1)  # Flatten the input\n",
    "        x = torch.relu(self.fc1(x))\n",
    "        x = torch.relu(self.fc2(x))\n",
    "        x = self.fc3(x)\n",
    "        return x\n",
    "\n",
    "model = SimpleNN()"
   ]
  },
  {
   "cell_type": "code",
   "execution_count": 11,
   "metadata": {},
   "outputs": [],
   "source": [
    "# Step 3: Loss Function and Optimizer\n",
    "criterion = nn.CrossEntropyLoss()\n",
    "optimizer = optim.Adam(model.parameters(), lr=0.001)"
   ]
  },
  {
   "cell_type": "code",
   "execution_count": 12,
   "metadata": {},
   "outputs": [
    {
     "name": "stdout",
     "output_type": "stream",
     "text": [
      "Epoch 1/5, Loss: 0.1338\n",
      "Epoch 2/5, Loss: 0.0638\n",
      "Epoch 3/5, Loss: 0.0543\n",
      "Epoch 4/5, Loss: 0.0425\n",
      "Epoch 5/5, Loss: 0.0332\n"
     ]
    }
   ],
   "source": [
    "# Training Function\n",
    "def train_model(model, loader, criterion, optimizer, epochs=5):\n",
    "    model.train()\n",
    "    for epoch in range(epochs):\n",
    "        total_loss = 0\n",
    "        for inputs, labels in loader:\n",
    "            optimizer.zero_grad()\n",
    "            outputs = model(inputs)\n",
    "            loss = criterion(outputs, labels)\n",
    "            loss.backward()\n",
    "            optimizer.step()\n",
    "            total_loss += loss.item()\n",
    "        print(f\"Epoch {epoch+1}/{epochs}, Loss: {total_loss/len(loader):.4f}\")\n",
    "\n",
    "# Train the model\n",
    "train_model(model, train_loader, criterion, optimizer, epochs=5)\n",
    "torch.save(model.state_dict(), 'mnist_model.pth')"
   ]
  },
  {
   "cell_type": "code",
   "execution_count": 13,
   "metadata": {},
   "outputs": [
    {
     "name": "stdout",
     "output_type": "stream",
     "text": [
      "Accuracy: 98.61%\n",
      "Precision: 0.99\n",
      "Recall: 0.99\n",
      "F1 Score: 0.99\n"
     ]
    }
   ],
   "source": [
    "# Evaluation Function\n",
    "def evaluate_model(model, loader):\n",
    "    model.eval()\n",
    "    correct = 0\n",
    "    total = 0\n",
    "    all_preds = []\n",
    "    all_labels = []\n",
    "    with torch.no_grad():\n",
    "        for inputs, labels in loader:\n",
    "            outputs = model(inputs)\n",
    "            _, predicted = torch.max(outputs, 1)\n",
    "            total += labels.size(0)\n",
    "            correct += (predicted == labels).sum().item()\n",
    "            all_preds.extend(predicted.cpu().numpy())\n",
    "            all_labels.extend(labels.cpu().numpy())\n",
    "\n",
    "    accuracy = correct / total * 100\n",
    "    precision = precision_score(all_labels, all_preds, average='weighted', zero_division=1)\n",
    "    recall = recall_score(all_labels, all_preds, average='weighted', zero_division=1)\n",
    "    f1 = f1_score(all_labels, all_preds, average='weighted', zero_division=1)\n",
    "\n",
    "    print(f\"Accuracy: {accuracy:.2f}%\")\n",
    "    print(f\"Precision: {precision:.2f}\")\n",
    "    print(f\"Recall: {recall:.2f}\")\n",
    "    print(f\"F1 Score: {f1:.2f}\")\n",
    "\n",
    "# Evaluate the model\n",
    "evaluate_model(model, test_loader)"
   ]
  },
  {
   "cell_type": "code",
   "execution_count": 14,
   "metadata": {},
   "outputs": [],
   "source": [
    "# Compute Task Vector\n",
    "def compute_task_vector(model):\n",
    "    return model.fc3.weight.detach().cpu().numpy()"
   ]
  },
  {
   "cell_type": "code",
   "execution_count": 15,
   "metadata": {},
   "outputs": [
    {
     "name": "stdout",
     "output_type": "stream",
     "text": [
      "Epoch 1/5, Loss: 0.0023\n",
      "Epoch 2/5, Loss: 0.0001\n",
      "Epoch 3/5, Loss: 0.0000\n",
      "Epoch 4/5, Loss: 0.0000\n",
      "Epoch 5/5, Loss: 0.0000\n",
      "Epoch 1/5, Loss: 0.0066\n",
      "Epoch 2/5, Loss: 0.0000\n",
      "Epoch 3/5, Loss: 0.0000\n",
      "Epoch 4/5, Loss: 0.0000\n",
      "Epoch 5/5, Loss: 0.0000\n",
      "Epoch 1/5, Loss: 0.0000\n",
      "Epoch 2/5, Loss: 0.0000\n",
      "Epoch 3/5, Loss: 0.0000\n",
      "Epoch 4/5, Loss: 0.0000\n",
      "Epoch 5/5, Loss: 0.0000\n"
     ]
    }
   ],
   "source": [
    "# Save task vectors for individual classes\n",
    "task_vectors = {}\n",
    "for cls in selected_classes:\n",
    "    class_subset = extract_classes(train_dataset, [cls])\n",
    "    loader = create_dataloader(class_subset)\n",
    "    train_model(model, loader, criterion, optimizer, epochs=5)\n",
    "    task_vectors[cls] = compute_task_vector(model)\n",
    "    pickle.dump(task_vectors[cls], open(f'tv_{cls}.pkl', 'wb'))"
   ]
  },
  {
   "cell_type": "code",
   "execution_count": 16,
   "metadata": {},
   "outputs": [],
   "source": [
    "\n",
    "# Apply Combined Task Vector\n",
    "def apply_combined_task_vector(model, task_vectors):\n",
    "    combined_vector = sum(task_vectors.values()) / len(task_vectors)\n",
    "    combined_vector /= torch.norm(torch.tensor(combined_vector))\n",
    "    model.fc3.weight.data = torch.tensor(combined_vector, dtype=torch.float32)\n",
    "    return model"
   ]
  },
  {
   "cell_type": "code",
   "execution_count": 17,
   "metadata": {},
   "outputs": [
    {
     "name": "stdout",
     "output_type": "stream",
     "text": [
      "Accuracy: 33.44%\n",
      "Precision: 0.78\n",
      "Recall: 0.33\n",
      "F1 Score: 0.17\n"
     ]
    },
    {
     "name": "stderr",
     "output_type": "stream",
     "text": [
      "/var/folders/j0/w_sc6_7n777fy7v8ytm1r08w0000gn/T/ipykernel_2213/635165312.py:5: UserWarning: To copy construct from a tensor, it is recommended to use sourceTensor.clone().detach() or sourceTensor.clone().detach().requires_grad_(True), rather than torch.tensor(sourceTensor).\n",
      "  model.fc3.weight.data = torch.tensor(combined_vector, dtype=torch.float32)\n"
     ]
    }
   ],
   "source": [
    "# Apply the combined task vector and evaluate\n",
    "apply_combined_task_vector(model, task_vectors)\n",
    "evaluate_model(model, test_loader)"
   ]
  },
  {
   "cell_type": "code",
   "execution_count": 18,
   "metadata": {},
   "outputs": [
    {
     "name": "stdout",
     "output_type": "stream",
     "text": [
      "Epoch 1/3, Loss: 0.3602\n",
      "Epoch 2/3, Loss: 0.0494\n",
      "Epoch 3/3, Loss: 0.0398\n",
      "Accuracy: 98.84%\n",
      "Precision: 0.99\n",
      "Recall: 0.99\n",
      "F1 Score: 0.99\n"
     ]
    }
   ],
   "source": [
    "# Fine-tune with the combined task vector\n",
    "train_model(model, train_loader, criterion, optimizer, epochs=3)\n",
    "evaluate_model(model, test_loader)"
   ]
  },
  {
   "cell_type": "code",
   "execution_count": null,
   "metadata": {},
   "outputs": [],
   "source": []
  }
 ],
 "metadata": {
  "kernelspec": {
   "display_name": "base",
   "language": "python",
   "name": "python3"
  },
  "language_info": {
   "codemirror_mode": {
    "name": "ipython",
    "version": 3
   },
   "file_extension": ".py",
   "mimetype": "text/x-python",
   "name": "python",
   "nbconvert_exporter": "python",
   "pygments_lexer": "ipython3",
   "version": "3.12.2"
  }
 },
 "nbformat": 4,
 "nbformat_minor": 2
}
